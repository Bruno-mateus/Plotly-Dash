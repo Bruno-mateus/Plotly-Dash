{
 "cells": [
  {
   "cell_type": "code",
   "execution_count": 13,
   "metadata": {},
   "outputs": [],
   "source": [
    "import pandas as pd\n",
    "import plotly.express as px\n",
    "import json\n",
    "from urllib.request import urlopen"
   ]
  },
  {
   "cell_type": "code",
   "execution_count": 35,
   "metadata": {},
   "outputs": [],
   "source": [
    "# Dados de exemplo\n",
    "data = {\n",
    "    'Estado': ['SP', 'Paraná', 'RJ'],\n",
    "    'Reclamacoes': [120, 80, 150],\n",
    "    'Estado_Nome': ['São Paulo', 'Paraná', 'Rio de Janeiro']\n",
    "}\n",
    "\n",
    "df = pd.DataFrame(data)\n"
   ]
  },
  {
   "cell_type": "code",
   "execution_count": 40,
   "metadata": {},
   "outputs": [],
   "source": [
    "\n",
    "def Map():\n",
    "    state_id_map = {}\n",
    "\n",
    "    with urlopen('https://raw.githubusercontent.com/codeforamerica/click_that_hood/master/public/data/brazil-states.geojson') as response:\n",
    "        Brazil = json.load(response) \n",
    "        Brazil\n",
    "\n",
    "\n",
    "\n",
    "    for feature in Brazil ['features']:\n",
    "        feature['id'] = feature['properties']['name']\n",
    "        state_id_map[feature['properties']['sigla']] = feature['id']\n",
    "\n",
    "\n",
    "    fig = px.choropleth(\n",
    "    df,\n",
    "    locations = 'Estado_Nome', \n",
    "    geojson = Brazil, \n",
    "    color = \"Reclamacoes\", \n",
    "    hover_name = 'Estado', \n",
    "    hover_data =['Reclamacoes'],\n",
    "    title = \"Reclamacoes\", \n",
    "    #animation_frame = ''\n",
    "    \n",
    "    )\n",
    "    fig.update_geos(fitbounds = \"locations\")\n",
    "    return fig"
   ]
  }
 ],
 "metadata": {
  "kernelspec": {
   "display_name": "Python 3",
   "language": "python",
   "name": "python3"
  },
  "language_info": {
   "codemirror_mode": {
    "name": "ipython",
    "version": 3
   },
   "file_extension": ".py",
   "mimetype": "text/x-python",
   "name": "python",
   "nbconvert_exporter": "python",
   "pygments_lexer": "ipython3",
   "version": "3.12.0"
  }
 },
 "nbformat": 4,
 "nbformat_minor": 2
}
